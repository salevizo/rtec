{
 "cells": [
  {
   "cell_type": "code",
   "execution_count": 1,
   "metadata": {},
   "outputs": [],
   "source": [
    "import pandas as pd"
   ]
  },
  {
   "cell_type": "code",
   "execution_count": 4,
   "metadata": {},
   "outputs": [],
   "source": [
    "cleared=[]\n",
    "\n",
    "with open(\"results_win300/maritime_results.txt\") as f:\n",
    "    content = f.readlines()\n",
    "with open(\"results_win600/maritime_results.txt\") as f1:\n",
    "    content1 = f.readlines()"
   ]
  },
  {
   "cell_type": "code",
   "execution_count": 27,
   "metadata": {},
   "outputs": [],
   "source": [
    "maa=0\n",
    "gap=0\n",
    "stopped=0\n",
    "underWay=0\n",
    "changingSpeed=0\n",
    "atAnchorOrMoored=0\n",
    "fishing = 0\n",
    "adrift = 0\n",
    "speedLTMin = 0\n",
    "highSpeedNearCoast = 0\n",
    "rendezVous = 0\n",
    "lowSpeed = 0\n",
    "\n",
    "\n",
    "for i in range(len(content)):\n",
    "    if 'maa' in content[i]:\n",
    "            maa += 1\n",
    "    elif 'gap' in content[i]:\n",
    "        gap += 1\n",
    "    elif 'stopped' in content[i]:\n",
    "        stopped += 1\n",
    "    elif 'underWay' in content[i]:\n",
    "        underWay += 1\n",
    "    elif 'changingSpeed' in content[i]:\n",
    "        changingSpeed += 1\n",
    "    elif 'atAnchorOrMoored' in content[i]:\n",
    "        atAnchorOrMoored += 1\n",
    "    elif 'fishing' in content[i]:\n",
    "        fishing += 1\n",
    "    elif 'adrift' in content[i]:\n",
    "        adrift += 1\n",
    "    elif 'speedLTMin' in content[i]:\n",
    "        speedLTMin += 1\n",
    "    elif 'highSpeed' in content[i]:\n",
    "        highSpeedNearCoast += 1\n",
    "    elif 'rendezVous' in content[i]:\n",
    "        rendezVous += 1\n",
    "    elif 'lowSpeed' in content[i]:\n",
    "        lowSpeed += 1\n",
    "    \n",
    "        \n",
    "        \n"
   ]
  },
  {
   "cell_type": "code",
   "execution_count": 28,
   "metadata": {},
   "outputs": [
    {
     "name": "stdout",
     "output_type": "stream",
     "text": [
      "Total Events: gap: 82003 stopped: 25064 changingSpeed: 6456 atAnchorOrMoored: 3821 fishing: 2969 adrift: 2367 speedLTMin: 34589 highSpeedNearCoast: 168 rendezVous: 2\n"
     ]
    }
   ],
   "source": [
    "print(\"Total Events with window 300: gap:\",gap,\"stopped:\",stopped,\"changingSpeed:\",changingSpeed,\"atAnchorOrMoored:\",atAnchorOrMoored,\"fishing:\",fishing,\"adrift:\",adrift,\"speedLTMin:\",speedLTMin,\"highSpeedNearCoast:\",highSpeedNearCoast,\"rendezVous:\",rendezVous)"
   ]
  },
  {
   "cell_type": "code",
   "execution_count": null,
   "metadata": {},
   "outputs": [],
   "source": [
    "maa=0\n",
    "gap=0\n",
    "stopped=0\n",
    "underWay=0\n",
    "changingSpeed=0\n",
    "atAnchorOrMoored=0\n",
    "fishing = 0\n",
    "adrift = 0\n",
    "speedLTMin = 0\n",
    "highSpeedNearCoast = 0\n",
    "rendezVous = 0\n",
    "lowSpeed = 0\n",
    "\n",
    "\n",
    "for i in range(len(content1)):\n",
    "    if 'maa' in content1[i]:\n",
    "            maa += 1\n",
    "    elif 'gap' in content1[i]:\n",
    "        gap += 1\n",
    "    elif 'stopped' in content1[i]:\n",
    "        stopped += 1\n",
    "    elif 'underWay' in content1[i]:\n",
    "        underWay += 1\n",
    "    elif 'changingSpeed' in content1[i]:\n",
    "        changingSpeed += 1\n",
    "    elif 'atAnchorOrMoored' in content1[i]:\n",
    "        atAnchorOrMoored += 1\n",
    "    elif 'fishing' in content1[i]:\n",
    "        fishing += 1\n",
    "    elif 'adrift' in content1[i]:\n",
    "        adrift += 1\n",
    "    elif 'speedLTMin' in content1[i]:\n",
    "        speedLTMin += 1\n",
    "    elif 'highSpeed' in content1[i]:\n",
    "        highSpeedNearCoast += 1\n",
    "    elif 'rendezVous' in content1[i]:\n",
    "        rendezVous += 1\n",
    "    elif 'lowSpeed' in content1[i]:\n",
    "        lowSpeed += 1\n",
    "    \n",
    "        \n",
    "        "
   ]
  },
  {
   "cell_type": "code",
   "execution_count": null,
   "metadata": {},
   "outputs": [],
   "source": [
    "print(\"Total Events with window 600: gap:\",gap,\"stopped:\",stopped,\"changingSpeed:\",changingSpeed,\"atAnchorOrMoored:\",atAnchorOrMoored,\"fishing:\",fishing,\"adrift:\",adrift,\"speedLTMin:\",speedLTMin,\"highSpeedNearCoast:\",highSpeedNearCoast,\"rendezVous:\",rendezVous)"
   ]
  }
 ],
 "metadata": {
  "kernelspec": {
   "display_name": "Python 3",
   "language": "python",
   "name": "python3"
  },
  "language_info": {
   "codemirror_mode": {
    "name": "ipython",
    "version": 3
   },
   "file_extension": ".py",
   "mimetype": "text/x-python",
   "name": "python",
   "nbconvert_exporter": "python",
   "pygments_lexer": "ipython3",
   "version": "3.7.1"
  }
 },
 "nbformat": 4,
 "nbformat_minor": 2
}
